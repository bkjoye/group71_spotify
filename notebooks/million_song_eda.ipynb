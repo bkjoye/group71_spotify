{
 "cells": [
  {
   "cell_type": "code",
   "execution_count": 1,
   "metadata": {},
   "outputs": [],
   "source": [
    "import numpy as np\n",
    "import pandas as pd\n",
    "\n",
    "import math\n",
    "from scipy.special import gamma\n",
    "\n",
    "import matplotlib\n",
    "import matplotlib.pyplot as plt\n",
    "%matplotlib inline\n",
    "\n",
    "import seaborn as sns\n",
    "sns.set()\n",
    "\n",
    "from IPython.display import display\n",
    "\n",
    "import os\n",
    "import re\n",
    "import json"
   ]
  },
  {
   "cell_type": "code",
   "execution_count": 2,
   "metadata": {},
   "outputs": [],
   "source": [
    "def process_file(file_name, data_dict):\n",
    "    with open(file_name) as json_data:\n",
    "        data = json.load(json_data)\n",
    "    tag_length = len(data['tags'])\n",
    "    similars_length = len(data['similars'])\n",
    "    key_str = file_name.split('/')[-1][:-5]\n",
    "    data_dict[key_str] = data\n",
    "    return data_dict"
   ]
  },
  {
   "cell_type": "code",
   "execution_count": 3,
   "metadata": {},
   "outputs": [],
   "source": [
    "def generate_file_list(directory):\n",
    "    file_list = []\n",
    "    #this loop properly gets all files in the directory\n",
    "    for directory, sub_dirs, files in os.walk(directory):\n",
    "        for name in files:\n",
    "            if name[-4:] == 'json':\n",
    "                file_list.append(directory + '/' + name)\n",
    "    return file_list"
   ]
  },
  {
   "cell_type": "code",
   "execution_count": 5,
   "metadata": {},
   "outputs": [],
   "source": [
    "def parse_data(data):\n",
    "    similars_list = []\n",
    "    tags_list = []\n",
    "    songs_list = []\n",
    "    for key, song in data.items():\n",
    "        songs_list.append([song['artist'], song['timestamp'], song['track_id'], song['title']])\n",
    "        for similar_list in song['similars']:\n",
    "            similars_list.append([key]+similar_list)\n",
    "        for tag_list in song['tags']:\n",
    "            tags_list.append([key, re.sub('[^a-z0-9 ]+','',tag_list[0].lower()), tag_list[1]])\n",
    "        \n",
    "    similars_df = pd.DataFrame(similars_list, columns=['track_id1', 'track_id2', 'similarity'])\n",
    "    tags_df = pd.DataFrame(tags_list, columns=['track_id', 'tag', 'strength'])\n",
    "    songs_df = pd.DataFrame(songs_list, columns=['artist', 'timestamp', 'track_id', 'title'])\n",
    "    \n",
    "    return similars_df, tags_df, songs_df"
   ]
  },
  {
   "cell_type": "code",
   "execution_count": 6,
   "metadata": {},
   "outputs": [],
   "source": [
    "def process_data(directory_in, save_to_disk=True, \n",
    "                 similars_file_out='data/similars_df.json', \n",
    "                 tags_file_out='data/tags_df.json', \n",
    "                 songs_file_out='data/songs_df.json'):\n",
    "    #retrieve list of all json files in directory and subdirectories\n",
    "    print('Generating File List')\n",
    "    file_list = generate_file_list(directory_in)\n",
    "    #extract data from json files into dict\n",
    "    data= {}\n",
    "    print('Reading data from files')\n",
    "    for name in file_list:\n",
    "        data = process_file(name, data)\n",
    "    #parse data into three separate dataframes\n",
    "    print('Putting Data into dataframes')\n",
    "    similars_df, tags_df, songs_df = parse_data(data)\n",
    "    \n",
    "    if save_to_disk == True:\n",
    "        #save dataframes for later use\n",
    "        print('Saving data to disk')\n",
    "        similars_df.to_json(similars_file_out)\n",
    "        tags_df.to_json(tags_file_out)\n",
    "        songs_df.to_json(songs_file_out)\n",
    "    return similars_df, tags_df, songs_df"
   ]
  },
  {
   "cell_type": "code",
   "execution_count": 46,
   "metadata": {},
   "outputs": [
    {
     "name": "stdout",
     "output_type": "stream",
     "text": [
      "Generating File List\n",
      "Reading data from files\n",
      "Putting Data into dataframes\n"
     ]
    }
   ],
   "source": [
    "similars_df, tags_df, songs_df = \\\n",
    "process_data('data/lastfm_train/', True, 'data/similars_train.json',\\\n",
    "             'data/tags_train.json', 'data/songs_train.json')"
   ]
  },
  {
   "cell_type": "code",
   "execution_count": 2,
   "metadata": {},
   "outputs": [],
   "source": [
    "tags_df = pd.read_json('data/tags_train.json')"
   ]
  },
  {
   "cell_type": "code",
   "execution_count": 10,
   "metadata": {},
   "outputs": [
    {
     "data": {
      "text/html": [
       "<div>\n",
       "<style scoped>\n",
       "    .dataframe tbody tr th:only-of-type {\n",
       "        vertical-align: middle;\n",
       "    }\n",
       "\n",
       "    .dataframe tbody tr th {\n",
       "        vertical-align: top;\n",
       "    }\n",
       "\n",
       "    .dataframe thead th {\n",
       "        text-align: right;\n",
       "    }\n",
       "</style>\n",
       "<table border=\"1\" class=\"dataframe\">\n",
       "  <thead>\n",
       "    <tr style=\"text-align: right;\">\n",
       "      <th></th>\n",
       "      <th>track_id</th>\n",
       "      <th>tag</th>\n",
       "      <th>strength</th>\n",
       "    </tr>\n",
       "  </thead>\n",
       "  <tbody>\n",
       "    <tr>\n",
       "      <th>0</th>\n",
       "      <td>TRAAAAK128F9318786</td>\n",
       "      <td>alternative rock</td>\n",
       "      <td>100</td>\n",
       "    </tr>\n",
       "    <tr>\n",
       "      <th>1</th>\n",
       "      <td>TRAAAAK128F9318786</td>\n",
       "      <td>rock</td>\n",
       "      <td>60</td>\n",
       "    </tr>\n",
       "    <tr>\n",
       "      <th>10</th>\n",
       "      <td>TRAAAAW128F429D538</td>\n",
       "      <td>hieroglyiphics</td>\n",
       "      <td>100</td>\n",
       "    </tr>\n",
       "    <tr>\n",
       "      <th>100</th>\n",
       "      <td>TRAAAED128E0783FAB</td>\n",
       "      <td>jazz vocal 2</td>\n",
       "      <td>1</td>\n",
       "    </tr>\n",
       "    <tr>\n",
       "      <th>1000</th>\n",
       "      <td>TRAABVM128F92CA9DC</td>\n",
       "      <td>love</td>\n",
       "      <td>22</td>\n",
       "    </tr>\n",
       "  </tbody>\n",
       "</table>\n",
       "</div>"
      ],
      "text/plain": [
       "                track_id               tag  strength\n",
       "0     TRAAAAK128F9318786  alternative rock       100\n",
       "1     TRAAAAK128F9318786              rock        60\n",
       "10    TRAAAAW128F429D538    hieroglyiphics       100\n",
       "100   TRAAAED128E0783FAB      jazz vocal 2         1\n",
       "1000  TRAABVM128F92CA9DC              love        22"
      ]
     },
     "metadata": {},
     "output_type": "display_data"
    },
    {
     "data": {
      "text/plain": [
       "(7671133, 3)"
      ]
     },
     "metadata": {},
     "output_type": "display_data"
    }
   ],
   "source": [
    "display(tags_df.head())\n",
    "display(tags_df.shape)"
   ]
  },
  {
   "cell_type": "code",
   "execution_count": 4,
   "metadata": {},
   "outputs": [
    {
     "data": {
      "image/png": "[encoded data removed]",
      "text/plain": [
       "<Figure size 720x360 with 1 Axes>"
      ]
     },
     "metadata": {
      "needs_background": "light"
     },
     "output_type": "display_data"
    }
   ],
   "source": [
    "tags_per_song = tags_df['track_id'].value_counts()\n",
    "fig, ax = plt.subplots(figsize=(10,5))\n",
    "ax.hist(tags_per_song)\n",
    "ax.set_title('Number of Tags Per Song')\n",
    "ax.set_ylabel('Number of Songs')\n",
    "ax.set_xlabel('Number of Tags')\n",
    "plt.show()"
   ]
  },
  {
   "cell_type": "code",
   "execution_count": null,
   "metadata": {},
   "outputs": [],
   "source": [
    "songs_df = pd.read_json('data/songs_train.json')"
   ]
  },
  {
   "cell_type": "code",
   "execution_count": 9,
   "metadata": {},
   "outputs": [
    {
     "data": {
      "text/html": [
       "<div>\n",
       "<style scoped>\n",
       "    .dataframe tbody tr th:only-of-type {\n",
       "        vertical-align: middle;\n",
       "    }\n",
       "\n",
       "    .dataframe tbody tr th {\n",
       "        vertical-align: top;\n",
       "    }\n",
       "\n",
       "    .dataframe thead th {\n",
       "        text-align: right;\n",
       "    }\n",
       "</style>\n",
       "<table border=\"1\" class=\"dataframe\">\n",
       "  <thead>\n",
       "    <tr style=\"text-align: right;\">\n",
       "      <th></th>\n",
       "      <th>artist</th>\n",
       "      <th>timestamp</th>\n",
       "      <th>track_id</th>\n",
       "      <th>title</th>\n",
       "    </tr>\n",
       "  </thead>\n",
       "  <tbody>\n",
       "    <tr>\n",
       "      <th>0</th>\n",
       "      <td>Adelitas Way</td>\n",
       "      <td>2011-08-15 09:59:32.436152</td>\n",
       "      <td>TRAAAAK128F9318786</td>\n",
       "      <td>Scream</td>\n",
       "    </tr>\n",
       "    <tr>\n",
       "      <th>1</th>\n",
       "      <td>Western Addiction</td>\n",
       "      <td>2011-08-12 13:00:44.771968</td>\n",
       "      <td>TRAAAAV128F421A322</td>\n",
       "      <td>A Poor Recipe For Civic Cohesion</td>\n",
       "    </tr>\n",
       "    <tr>\n",
       "      <th>10</th>\n",
       "      <td>Son Kite</td>\n",
       "      <td>2011-08-10 19:36:13.851544</td>\n",
       "      <td>TRAAAEM128F93347B9</td>\n",
       "      <td>Game &amp; Watch</td>\n",
       "    </tr>\n",
       "    <tr>\n",
       "      <th>100</th>\n",
       "      <td>Lost Immigrants</td>\n",
       "      <td>2011-08-02 09:37:00.958971</td>\n",
       "      <td>TRAACEI128F930C60E</td>\n",
       "      <td>Memories &amp; Rust</td>\n",
       "    </tr>\n",
       "    <tr>\n",
       "      <th>1000</th>\n",
       "      <td>The Irish Tenors</td>\n",
       "      <td>2011-08-03 03:38:35.708526</td>\n",
       "      <td>TRAATLC12903D0172B</td>\n",
       "      <td>Mountains Of Mourne</td>\n",
       "    </tr>\n",
       "  </tbody>\n",
       "</table>\n",
       "</div>"
      ],
      "text/plain": [
       "                 artist                  timestamp            track_id  \\\n",
       "0          Adelitas Way 2011-08-15 09:59:32.436152  TRAAAAK128F9318786   \n",
       "1     Western Addiction 2011-08-12 13:00:44.771968  TRAAAAV128F421A322   \n",
       "10             Son Kite 2011-08-10 19:36:13.851544  TRAAAEM128F93347B9   \n",
       "100     Lost Immigrants 2011-08-02 09:37:00.958971  TRAACEI128F930C60E   \n",
       "1000   The Irish Tenors 2011-08-03 03:38:35.708526  TRAATLC12903D0172B   \n",
       "\n",
       "                                 title  \n",
       "0                               Scream  \n",
       "1     A Poor Recipe For Civic Cohesion  \n",
       "10                        Game & Watch  \n",
       "100                    Memories & Rust  \n",
       "1000               Mountains Of Mourne  "
      ]
     },
     "metadata": {},
     "output_type": "display_data"
    },
    {
     "data": {
      "text/plain": [
       "(839122, 4)"
      ]
     },
     "metadata": {},
     "output_type": "display_data"
    }
   ],
   "source": [
    "display(songs_df.head())\n",
    "display(songs_df.shape)"
   ]
  },
  {
   "cell_type": "code",
   "execution_count": null,
   "metadata": {},
   "outputs": [],
   "source": [
    "#not enough ram to execute, need to find alternate solution.\n",
    "#Dataframe is loaded after running the process_data function.\n",
    "similars_df = pd.read_json('data/similars_train.json')\n",
    "display(similars_df.head())"
   ]
  },
  {
   "cell_type": "code",
   "execution_count": 3,
   "metadata": {},
   "outputs": [
    {
     "data": {
      "image/png": "[encoded data removed]",
      "text/plain": [
       "<Figure size 720x360 with 1 Axes>"
      ]
     },
     "metadata": {
      "needs_background": "light"
     },
     "output_type": "display_data"
    }
   ],
   "source": [
    "fig, ax = plt.subplots(figsize=(10,5))\n",
    "tag_counts = tags_df['tag'].value_counts()\n",
    "tag_counts_gt5 = tag_counts[tag_counts>5]\n",
    "ax.plot(np.arange(tag_counts.shape[0])+1, tag_counts)\n",
    "ax.set_yscale('log')\n",
    "ax.set_xscale('log')\n",
    "ax.set_title('Frequency of Tag Usage')\n",
    "ax.set_xlabel('Tag Popularity')\n",
    "ax.set_ylabel('Number of Appearances')\n",
    "# ax[0].plot(np.arange(tag_counts.shape[0])+1, tag_counts)\n",
    "# ax[0].set_yscale('log')\n",
    "# ax[0].set_xscale('log')\n",
    "# ax[0].set_title('Frequency of Tag Usage')\n",
    "# ax[0].set_xlabel('Tag Popularity')\n",
    "# ax[0].set_ylabel('Number of Appearances')\n",
    "# ax[1].plot(np.arange(tag_counts_gt5.shape[0]), tag_counts_gt5)\n",
    "# ax[1].set_yscale('log')\n",
    "# ax[1].set_xscale('log')\n",
    "# ax[1].set_title('Frequency of Tag Usage')\n",
    "# ax[1].set_xlabel('Tag Popularity')\n",
    "# ax[1].set_ylabel('Number of Appearances')\n",
    "plt.show()"
   ]
  },
  {
   "cell_type": "code",
   "execution_count": 5,
   "metadata": {},
   "outputs": [],
   "source": [
    "data = [[i, w] for i, w in tag_counts[0:10].items()]"
   ]
  },
  {
   "cell_type": "code",
   "execution_count": 7,
   "metadata": {},
   "outputs": [
    {
     "data": {
      "text/html": [
       "<div>\n",
       "<style scoped>\n",
       "    .dataframe tbody tr th:only-of-type {\n",
       "        vertical-align: middle;\n",
       "    }\n",
       "\n",
       "    .dataframe tbody tr th {\n",
       "        vertical-align: top;\n",
       "    }\n",
       "\n",
       "    .dataframe thead th {\n",
       "        text-align: right;\n",
       "    }\n",
       "</style>\n",
       "<table border=\"1\" class=\"dataframe\">\n",
       "  <thead>\n",
       "    <tr style=\"text-align: right;\">\n",
       "      <th></th>\n",
       "      <th>Tag</th>\n",
       "      <th>Usage Count</th>\n",
       "    </tr>\n",
       "  </thead>\n",
       "  <tbody>\n",
       "    <tr>\n",
       "      <th>1</th>\n",
       "      <td>rock</td>\n",
       "      <td>91222</td>\n",
       "    </tr>\n",
       "    <tr>\n",
       "      <th>2</th>\n",
       "      <td>pop</td>\n",
       "      <td>61775</td>\n",
       "    </tr>\n",
       "    <tr>\n",
       "      <th>3</th>\n",
       "      <td>alternative</td>\n",
       "      <td>50568</td>\n",
       "    </tr>\n",
       "    <tr>\n",
       "      <th>4</th>\n",
       "      <td>indie</td>\n",
       "      <td>43037</td>\n",
       "    </tr>\n",
       "    <tr>\n",
       "      <th>5</th>\n",
       "      <td>electronic</td>\n",
       "      <td>40525</td>\n",
       "    </tr>\n",
       "    <tr>\n",
       "      <th>6</th>\n",
       "      <td>female vocalists</td>\n",
       "      <td>37804</td>\n",
       "    </tr>\n",
       "    <tr>\n",
       "      <th>7</th>\n",
       "      <td>favorites</td>\n",
       "      <td>37029</td>\n",
       "    </tr>\n",
       "    <tr>\n",
       "      <th>8</th>\n",
       "      <td>love</td>\n",
       "      <td>31497</td>\n",
       "    </tr>\n",
       "    <tr>\n",
       "      <th>9</th>\n",
       "      <td>dance</td>\n",
       "      <td>29495</td>\n",
       "    </tr>\n",
       "    <tr>\n",
       "      <th>10</th>\n",
       "      <td>00s</td>\n",
       "      <td>28699</td>\n",
       "    </tr>\n",
       "  </tbody>\n",
       "</table>\n",
       "</div>"
      ],
      "text/plain": [
       "                 Tag  Usage Count\n",
       "1               rock        91222\n",
       "2                pop        61775\n",
       "3        alternative        50568\n",
       "4              indie        43037\n",
       "5         electronic        40525\n",
       "6   female vocalists        37804\n",
       "7          favorites        37029\n",
       "8               love        31497\n",
       "9              dance        29495\n",
       "10               00s        28699"
      ]
     },
     "execution_count": 7,
     "metadata": {},
     "output_type": "execute_result"
    }
   ],
   "source": [
    "pd.DataFrame(data, columns=['Tag', 'Usage Count'], index=np.arange(1,11))"
   ]
  },
  {
   "cell_type": "code",
   "execution_count": null,
   "metadata": {},
   "outputs": [],
   "source": []
  }
 ],
 "metadata": {
  "kernelspec": {
   "display_name": "Python 3",
   "language": "python",
   "name": "python3"
  },
  "language_info": {
   "codemirror_mode": {
    "name": "ipython",
    "version": 3
   },
   "file_extension": ".py",
   "mimetype": "text/x-python",
   "name": "python",
   "nbconvert_exporter": "python",
   "pygments_lexer": "ipython3",
   "version": "3.7.0"
  }
 },
 "nbformat": 4,
 "nbformat_minor": 2
}
