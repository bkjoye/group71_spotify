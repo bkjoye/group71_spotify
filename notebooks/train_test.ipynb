{
 "cells": [
  {
   "cell_type": "markdown",
   "metadata": {},
   "source": [
    "---\n",
    "title: Splitting Data\n",
    "nav_include: 4\n",
    "---\n",
    "\n",
    "**Stratification Goals**\n",
    "\n",
    "There were two goals when splitting the data, the first was to ensure there was an equal distribution of each playlist type in each data set. To acheive this we grouped the data based on the playlist names. \n",
    "\n",
    "The secondary goal was to try and evenly split the data by number of followers, to ensure that our model saw playlists with all different levels of popularity for each playlist name. To acheive this we split each name group that had at least 100 playlists in it into 10 groups of follower size and then randomly assigned the playlists in each group based on the weights given to the `split_train_test_validate` function."
   ]
  },
  {
   "cell_type": "code",
   "execution_count": 1,
   "metadata": {},
   "outputs": [],
   "source": [
    "import numpy as np\n",
    "import pandas as pd\n",
    "import gzip\n",
    "import csv\n",
    "\n",
    "import matplotlib\n",
    "import matplotlib.pyplot as plt\n",
    "%matplotlib inline\n",
    "\n",
    "import seaborn as sns\n",
    "sns.set()\n",
    "\n",
    "from IPython.display import display\n",
    "\n",
    "import os\n",
    "import re\n",
    "import json\n",
    "\n",
    "import pylast"
   ]
  },
  {
   "cell_type": "code",
   "execution_count": null,
   "metadata": {},
   "outputs": [],
   "source": [
    "df_key = pd.read_csv('data' + '/pidpos.csv.gz', compression='gzip', index_col=0)"
   ]
  },
  {
   "cell_type": "code",
   "execution_count": 3,
   "metadata": {},
   "outputs": [
    {
     "data": {
      "text/html": [
       "<div>\n",
       "<style scoped>\n",
       "    .dataframe tbody tr th:only-of-type {\n",
       "        vertical-align: middle;\n",
       "    }\n",
       "\n",
       "    .dataframe tbody tr th {\n",
       "        vertical-align: top;\n",
       "    }\n",
       "\n",
       "    .dataframe thead th {\n",
       "        text-align: right;\n",
       "    }\n",
       "</style>\n",
       "<table border=\"1\" class=\"dataframe\">\n",
       "  <thead>\n",
       "    <tr style=\"text-align: right;\">\n",
       "      <th></th>\n",
       "      <th>pidpos</th>\n",
       "      <th>pidpos_id</th>\n",
       "      <th>track_id</th>\n",
       "      <th>album_id</th>\n",
       "      <th>artist_id</th>\n",
       "      <th>playlist_id</th>\n",
       "    </tr>\n",
       "  </thead>\n",
       "  <tbody>\n",
       "    <tr>\n",
       "      <th>281</th>\n",
       "      <td>4-0</td>\n",
       "      <td>281</td>\n",
       "      <td>280</td>\n",
       "      <td>225</td>\n",
       "      <td>175</td>\n",
       "      <td>4</td>\n",
       "    </tr>\n",
       "    <tr>\n",
       "      <th>282</th>\n",
       "      <td>4-1</td>\n",
       "      <td>282</td>\n",
       "      <td>281</td>\n",
       "      <td>226</td>\n",
       "      <td>176</td>\n",
       "      <td>4</td>\n",
       "    </tr>\n",
       "    <tr>\n",
       "      <th>283</th>\n",
       "      <td>4-2</td>\n",
       "      <td>283</td>\n",
       "      <td>282</td>\n",
       "      <td>227</td>\n",
       "      <td>177</td>\n",
       "      <td>4</td>\n",
       "    </tr>\n",
       "    <tr>\n",
       "      <th>284</th>\n",
       "      <td>4-3</td>\n",
       "      <td>284</td>\n",
       "      <td>283</td>\n",
       "      <td>228</td>\n",
       "      <td>178</td>\n",
       "      <td>4</td>\n",
       "    </tr>\n",
       "    <tr>\n",
       "      <th>285</th>\n",
       "      <td>4-4</td>\n",
       "      <td>285</td>\n",
       "      <td>284</td>\n",
       "      <td>229</td>\n",
       "      <td>179</td>\n",
       "      <td>4</td>\n",
       "    </tr>\n",
       "  </tbody>\n",
       "</table>\n",
       "</div>"
      ],
      "text/plain": [
       "    pidpos  pidpos_id  track_id  album_id  artist_id  playlist_id\n",
       "281    4-0        281       280       225        175            4\n",
       "282    4-1        282       281       226        176            4\n",
       "283    4-2        283       282       227        177            4\n",
       "284    4-3        284       283       228        178            4\n",
       "285    4-4        285       284       229        179            4"
      ]
     },
     "execution_count": 3,
     "metadata": {},
     "output_type": "execute_result"
    }
   ],
   "source": [
    "df_key.head()"
   ]
  },
  {
   "cell_type": "code",
   "execution_count": 4,
   "metadata": {},
   "outputs": [
    {
     "data": {
      "text/plain": [
       "(241878,)"
      ]
     },
     "execution_count": 4,
     "metadata": {},
     "output_type": "execute_result"
    }
   ],
   "source": [
    "df_key.playlist_id.unique().shape"
   ]
  },
  {
   "cell_type": "code",
   "execution_count": 5,
   "metadata": {},
   "outputs": [],
   "source": [
    "playlist_ids = df_key.playlist_id.unique()\n",
    "song_ids = df_key.track_id.unique()\n",
    "album_ids = df_key.album_id.unique()\n",
    "artist_ids = df_key.artist_id.unique()"
   ]
  },
  {
   "cell_type": "code",
   "execution_count": 6,
   "metadata": {},
   "outputs": [],
   "source": [
    "df_songs = pd.read_csv('data' + '/full_aug_songs.csv.gz', compression='gzip')"
   ]
  },
  {
   "cell_type": "code",
   "execution_count": 7,
   "metadata": {},
   "outputs": [
    {
     "data": {
      "text/html": [
       "<div>\n",
       "<style scoped>\n",
       "    .dataframe tbody tr th:only-of-type {\n",
       "        vertical-align: middle;\n",
       "    }\n",
       "\n",
       "    .dataframe tbody tr th {\n",
       "        vertical-align: top;\n",
       "    }\n",
       "\n",
       "    .dataframe thead th {\n",
       "        text-align: right;\n",
       "    }\n",
       "</style>\n",
       "<table border=\"1\" class=\"dataframe\">\n",
       "  <thead>\n",
       "    <tr style=\"text-align: right;\">\n",
       "      <th></th>\n",
       "      <th>name</th>\n",
       "      <th>id</th>\n",
       "      <th>uri</th>\n",
       "      <th>duration</th>\n",
       "      <th>danceability</th>\n",
       "      <th>energy</th>\n",
       "      <th>key</th>\n",
       "      <th>loudness</th>\n",
       "      <th>mode</th>\n",
       "      <th>speechiness</th>\n",
       "      <th>acousticness</th>\n",
       "      <th>instrumentalness</th>\n",
       "      <th>liveness</th>\n",
       "      <th>valence</th>\n",
       "      <th>tempo</th>\n",
       "      <th>time_signature</th>\n",
       "    </tr>\n",
       "  </thead>\n",
       "  <tbody>\n",
       "    <tr>\n",
       "      <th>0</th>\n",
       "      <td>lose control feat ciara fat man scoop</td>\n",
       "      <td>0</td>\n",
       "      <td>0UaMYEvWZi0ZqiDOoHU3YI</td>\n",
       "      <td>226.863</td>\n",
       "      <td>0.904</td>\n",
       "      <td>0.813</td>\n",
       "      <td>4</td>\n",
       "      <td>-7.105</td>\n",
       "      <td>0</td>\n",
       "      <td>0.1210</td>\n",
       "      <td>0.03110</td>\n",
       "      <td>0.006970</td>\n",
       "      <td>0.0471</td>\n",
       "      <td>0.810</td>\n",
       "      <td>125.461</td>\n",
       "      <td>4</td>\n",
       "    </tr>\n",
       "    <tr>\n",
       "      <th>1</th>\n",
       "      <td>toxic</td>\n",
       "      <td>1</td>\n",
       "      <td>6I9VzXrHxO9rA9A5euc8Ak</td>\n",
       "      <td>198.800</td>\n",
       "      <td>0.774</td>\n",
       "      <td>0.838</td>\n",
       "      <td>5</td>\n",
       "      <td>-3.914</td>\n",
       "      <td>0</td>\n",
       "      <td>0.1140</td>\n",
       "      <td>0.02490</td>\n",
       "      <td>0.025000</td>\n",
       "      <td>0.2420</td>\n",
       "      <td>0.924</td>\n",
       "      <td>143.040</td>\n",
       "      <td>4</td>\n",
       "    </tr>\n",
       "    <tr>\n",
       "      <th>2</th>\n",
       "      <td>crazy in love</td>\n",
       "      <td>2</td>\n",
       "      <td>0WqIKmW4BTrj3eJFmnCKMv</td>\n",
       "      <td>235.933</td>\n",
       "      <td>0.664</td>\n",
       "      <td>0.758</td>\n",
       "      <td>2</td>\n",
       "      <td>-6.583</td>\n",
       "      <td>0</td>\n",
       "      <td>0.2100</td>\n",
       "      <td>0.00238</td>\n",
       "      <td>0.000000</td>\n",
       "      <td>0.0598</td>\n",
       "      <td>0.701</td>\n",
       "      <td>99.259</td>\n",
       "      <td>4</td>\n",
       "    </tr>\n",
       "    <tr>\n",
       "      <th>3</th>\n",
       "      <td>rock your body</td>\n",
       "      <td>3</td>\n",
       "      <td>1AWQoqb9bSvzTjaLralEkT</td>\n",
       "      <td>267.266</td>\n",
       "      <td>0.891</td>\n",
       "      <td>0.714</td>\n",
       "      <td>4</td>\n",
       "      <td>-6.055</td>\n",
       "      <td>0</td>\n",
       "      <td>0.1400</td>\n",
       "      <td>0.20200</td>\n",
       "      <td>0.000234</td>\n",
       "      <td>0.0521</td>\n",
       "      <td>0.818</td>\n",
       "      <td>100.972</td>\n",
       "      <td>4</td>\n",
       "    </tr>\n",
       "    <tr>\n",
       "      <th>4</th>\n",
       "      <td>it wasnt me</td>\n",
       "      <td>4</td>\n",
       "      <td>1lzr43nnXAijIGYnCT8M8H</td>\n",
       "      <td>227.600</td>\n",
       "      <td>0.853</td>\n",
       "      <td>0.606</td>\n",
       "      <td>0</td>\n",
       "      <td>-4.596</td>\n",
       "      <td>1</td>\n",
       "      <td>0.0713</td>\n",
       "      <td>0.05610</td>\n",
       "      <td>0.000000</td>\n",
       "      <td>0.3130</td>\n",
       "      <td>0.654</td>\n",
       "      <td>94.759</td>\n",
       "      <td>4</td>\n",
       "    </tr>\n",
       "  </tbody>\n",
       "</table>\n",
       "</div>"
      ],
      "text/plain": [
       "                                    name  id                     uri  \\\n",
       "0  lose control feat ciara fat man scoop   0  0UaMYEvWZi0ZqiDOoHU3YI   \n",
       "1                                  toxic   1  6I9VzXrHxO9rA9A5euc8Ak   \n",
       "2                          crazy in love   2  0WqIKmW4BTrj3eJFmnCKMv   \n",
       "3                         rock your body   3  1AWQoqb9bSvzTjaLralEkT   \n",
       "4                            it wasnt me   4  1lzr43nnXAijIGYnCT8M8H   \n",
       "\n",
       "   duration  danceability  energy  key  loudness  mode  speechiness  \\\n",
       "0   226.863         0.904   0.813    4    -7.105     0       0.1210   \n",
       "1   198.800         0.774   0.838    5    -3.914     0       0.1140   \n",
       "2   235.933         0.664   0.758    2    -6.583     0       0.2100   \n",
       "3   267.266         0.891   0.714    4    -6.055     0       0.1400   \n",
       "4   227.600         0.853   0.606    0    -4.596     1       0.0713   \n",
       "\n",
       "   acousticness  instrumentalness  liveness  valence    tempo  time_signature  \n",
       "0       0.03110          0.006970    0.0471    0.810  125.461               4  \n",
       "1       0.02490          0.025000    0.2420    0.924  143.040               4  \n",
       "2       0.00238          0.000000    0.0598    0.701   99.259               4  \n",
       "3       0.20200          0.000234    0.0521    0.818  100.972               4  \n",
       "4       0.05610          0.000000    0.3130    0.654   94.759               4  "
      ]
     },
     "execution_count": 7,
     "metadata": {},
     "output_type": "execute_result"
    }
   ],
   "source": [
    "df_songs.head()"
   ]
  },
  {
   "cell_type": "code",
   "execution_count": 8,
   "metadata": {},
   "outputs": [],
   "source": [
    "df2_songs = pd.read_csv('data/'+'songs.csv.gz', compression='gzip')"
   ]
  },
  {
   "cell_type": "code",
   "execution_count": 9,
   "metadata": {},
   "outputs": [
    {
     "data": {
      "text/html": [
       "<div>\n",
       "<style scoped>\n",
       "    .dataframe tbody tr th:only-of-type {\n",
       "        vertical-align: middle;\n",
       "    }\n",
       "\n",
       "    .dataframe tbody tr th {\n",
       "        vertical-align: top;\n",
       "    }\n",
       "\n",
       "    .dataframe thead th {\n",
       "        text-align: right;\n",
       "    }\n",
       "</style>\n",
       "<table border=\"1\" class=\"dataframe\">\n",
       "  <thead>\n",
       "    <tr style=\"text-align: right;\">\n",
       "      <th></th>\n",
       "      <th>name</th>\n",
       "      <th>id</th>\n",
       "      <th>uri</th>\n",
       "      <th>duration_ms</th>\n",
       "    </tr>\n",
       "  </thead>\n",
       "  <tbody>\n",
       "    <tr>\n",
       "      <th>0</th>\n",
       "      <td>lose control feat ciara fat man scoop</td>\n",
       "      <td>0</td>\n",
       "      <td>0UaMYEvWZi0ZqiDOoHU3YI</td>\n",
       "      <td>226.863</td>\n",
       "    </tr>\n",
       "    <tr>\n",
       "      <th>1</th>\n",
       "      <td>toxic</td>\n",
       "      <td>1</td>\n",
       "      <td>6I9VzXrHxO9rA9A5euc8Ak</td>\n",
       "      <td>198.800</td>\n",
       "    </tr>\n",
       "    <tr>\n",
       "      <th>2</th>\n",
       "      <td>crazy in love</td>\n",
       "      <td>2</td>\n",
       "      <td>0WqIKmW4BTrj3eJFmnCKMv</td>\n",
       "      <td>235.933</td>\n",
       "    </tr>\n",
       "    <tr>\n",
       "      <th>3</th>\n",
       "      <td>rock your body</td>\n",
       "      <td>3</td>\n",
       "      <td>1AWQoqb9bSvzTjaLralEkT</td>\n",
       "      <td>267.266</td>\n",
       "    </tr>\n",
       "    <tr>\n",
       "      <th>4</th>\n",
       "      <td>it wasnt me</td>\n",
       "      <td>4</td>\n",
       "      <td>1lzr43nnXAijIGYnCT8M8H</td>\n",
       "      <td>227.600</td>\n",
       "    </tr>\n",
       "  </tbody>\n",
       "</table>\n",
       "</div>"
      ],
      "text/plain": [
       "                                    name  id                     uri  \\\n",
       "0  lose control feat ciara fat man scoop   0  0UaMYEvWZi0ZqiDOoHU3YI   \n",
       "1                                  toxic   1  6I9VzXrHxO9rA9A5euc8Ak   \n",
       "2                          crazy in love   2  0WqIKmW4BTrj3eJFmnCKMv   \n",
       "3                         rock your body   3  1AWQoqb9bSvzTjaLralEkT   \n",
       "4                            it wasnt me   4  1lzr43nnXAijIGYnCT8M8H   \n",
       "\n",
       "   duration_ms  \n",
       "0      226.863  \n",
       "1      198.800  \n",
       "2      235.933  \n",
       "3      267.266  \n",
       "4      227.600  "
      ]
     },
     "execution_count": 9,
     "metadata": {},
     "output_type": "execute_result"
    }
   ],
   "source": [
    "df2_songs.head()"
   ]
  },
  {
   "cell_type": "code",
   "execution_count": 10,
   "metadata": {},
   "outputs": [],
   "source": [
    "df_artists = pd.read_csv('data/'+'artists.csv.gz', compression='gzip')"
   ]
  },
  {
   "cell_type": "code",
   "execution_count": 11,
   "metadata": {},
   "outputs": [
    {
     "data": {
      "text/html": [
       "<div>\n",
       "<style scoped>\n",
       "    .dataframe tbody tr th:only-of-type {\n",
       "        vertical-align: middle;\n",
       "    }\n",
       "\n",
       "    .dataframe tbody tr th {\n",
       "        vertical-align: top;\n",
       "    }\n",
       "\n",
       "    .dataframe thead th {\n",
       "        text-align: right;\n",
       "    }\n",
       "</style>\n",
       "<table border=\"1\" class=\"dataframe\">\n",
       "  <thead>\n",
       "    <tr style=\"text-align: right;\">\n",
       "      <th></th>\n",
       "      <th>name</th>\n",
       "      <th>id</th>\n",
       "    </tr>\n",
       "  </thead>\n",
       "  <tbody>\n",
       "    <tr>\n",
       "      <th>0</th>\n",
       "      <td>missy elliott</td>\n",
       "      <td>0</td>\n",
       "    </tr>\n",
       "    <tr>\n",
       "      <th>1</th>\n",
       "      <td>britney spears</td>\n",
       "      <td>1</td>\n",
       "    </tr>\n",
       "    <tr>\n",
       "      <th>2</th>\n",
       "      <td>beyonc</td>\n",
       "      <td>2</td>\n",
       "    </tr>\n",
       "    <tr>\n",
       "      <th>3</th>\n",
       "      <td>justin timberlake</td>\n",
       "      <td>3</td>\n",
       "    </tr>\n",
       "    <tr>\n",
       "      <th>4</th>\n",
       "      <td>shaggy</td>\n",
       "      <td>4</td>\n",
       "    </tr>\n",
       "  </tbody>\n",
       "</table>\n",
       "</div>"
      ],
      "text/plain": [
       "                name  id\n",
       "0      missy elliott   0\n",
       "1     britney spears   1\n",
       "2             beyonc   2\n",
       "3  justin timberlake   3\n",
       "4             shaggy   4"
      ]
     },
     "execution_count": 11,
     "metadata": {},
     "output_type": "execute_result"
    }
   ],
   "source": [
    "df_artists.head()"
   ]
  },
  {
   "cell_type": "code",
   "execution_count": 12,
   "metadata": {},
   "outputs": [],
   "source": [
    "df_playlists = pd.read_csv('data/'+'playlists.csv.gz', compression='gzip')"
   ]
  },
  {
   "cell_type": "code",
   "execution_count": 13,
   "metadata": {},
   "outputs": [
    {
     "data": {
      "text/html": [
       "<div>\n",
       "<style scoped>\n",
       "    .dataframe tbody tr th:only-of-type {\n",
       "        vertical-align: middle;\n",
       "    }\n",
       "\n",
       "    .dataframe tbody tr th {\n",
       "        vertical-align: top;\n",
       "    }\n",
       "\n",
       "    .dataframe thead th {\n",
       "        text-align: right;\n",
       "    }\n",
       "</style>\n",
       "<table border=\"1\" class=\"dataframe\">\n",
       "  <thead>\n",
       "    <tr style=\"text-align: right;\">\n",
       "      <th></th>\n",
       "      <th>id</th>\n",
       "      <th>name</th>\n",
       "      <th>num_followers</th>\n",
       "      <th>collaborative</th>\n",
       "      <th>num_tracks</th>\n",
       "      <th>num_albums</th>\n",
       "    </tr>\n",
       "  </thead>\n",
       "  <tbody>\n",
       "    <tr>\n",
       "      <th>0</th>\n",
       "      <td>0</td>\n",
       "      <td>throwbacks</td>\n",
       "      <td>1</td>\n",
       "      <td>1</td>\n",
       "      <td>52</td>\n",
       "      <td>47</td>\n",
       "    </tr>\n",
       "    <tr>\n",
       "      <th>1</th>\n",
       "      <td>1</td>\n",
       "      <td>awesome playlist</td>\n",
       "      <td>1</td>\n",
       "      <td>1</td>\n",
       "      <td>39</td>\n",
       "      <td>23</td>\n",
       "    </tr>\n",
       "    <tr>\n",
       "      <th>2</th>\n",
       "      <td>2</td>\n",
       "      <td>korean</td>\n",
       "      <td>1</td>\n",
       "      <td>1</td>\n",
       "      <td>64</td>\n",
       "      <td>51</td>\n",
       "    </tr>\n",
       "    <tr>\n",
       "      <th>3</th>\n",
       "      <td>3</td>\n",
       "      <td>mat</td>\n",
       "      <td>1</td>\n",
       "      <td>1</td>\n",
       "      <td>126</td>\n",
       "      <td>107</td>\n",
       "    </tr>\n",
       "    <tr>\n",
       "      <th>4</th>\n",
       "      <td>4</td>\n",
       "      <td>90s</td>\n",
       "      <td>2</td>\n",
       "      <td>1</td>\n",
       "      <td>17</td>\n",
       "      <td>16</td>\n",
       "    </tr>\n",
       "  </tbody>\n",
       "</table>\n",
       "</div>"
      ],
      "text/plain": [
       "   id              name  num_followers  collaborative  num_tracks  num_albums\n",
       "0   0        throwbacks              1              1          52          47\n",
       "1   1  awesome playlist              1              1          39          23\n",
       "2   2            korean              1              1          64          51\n",
       "3   3               mat              1              1         126         107\n",
       "4   4               90s              2              1          17          16"
      ]
     },
     "execution_count": 13,
     "metadata": {},
     "output_type": "execute_result"
    }
   ],
   "source": [
    "df_playlists.head()"
   ]
  },
  {
   "cell_type": "code",
   "execution_count": 14,
   "metadata": {},
   "outputs": [
    {
     "data": {
      "text/html": [
       "<div>\n",
       "<style scoped>\n",
       "    .dataframe tbody tr th:only-of-type {\n",
       "        vertical-align: middle;\n",
       "    }\n",
       "\n",
       "    .dataframe tbody tr th {\n",
       "        vertical-align: top;\n",
       "    }\n",
       "\n",
       "    .dataframe thead th {\n",
       "        text-align: right;\n",
       "    }\n",
       "</style>\n",
       "<table border=\"1\" class=\"dataframe\">\n",
       "  <thead>\n",
       "    <tr style=\"text-align: right;\">\n",
       "      <th></th>\n",
       "      <th>id</th>\n",
       "      <th>num_followers</th>\n",
       "      <th>collaborative</th>\n",
       "      <th>num_tracks</th>\n",
       "      <th>num_albums</th>\n",
       "    </tr>\n",
       "  </thead>\n",
       "  <tbody>\n",
       "    <tr>\n",
       "      <th>count</th>\n",
       "      <td>984547.000000</td>\n",
       "      <td>984547.000000</td>\n",
       "      <td>984547.0</td>\n",
       "      <td>984547.000000</td>\n",
       "      <td>984547.000000</td>\n",
       "    </tr>\n",
       "    <tr>\n",
       "      <th>mean</th>\n",
       "      <td>492273.000000</td>\n",
       "      <td>2.612579</td>\n",
       "      <td>1.0</td>\n",
       "      <td>66.388307</td>\n",
       "      <td>49.626047</td>\n",
       "    </tr>\n",
       "    <tr>\n",
       "      <th>std</th>\n",
       "      <td>284214.382075</td>\n",
       "      <td>129.852211</td>\n",
       "      <td>0.0</td>\n",
       "      <td>53.685494</td>\n",
       "      <td>39.993167</td>\n",
       "    </tr>\n",
       "    <tr>\n",
       "      <th>min</th>\n",
       "      <td>0.000000</td>\n",
       "      <td>1.000000</td>\n",
       "      <td>1.0</td>\n",
       "      <td>5.000000</td>\n",
       "      <td>2.000000</td>\n",
       "    </tr>\n",
       "    <tr>\n",
       "      <th>25%</th>\n",
       "      <td>246136.500000</td>\n",
       "      <td>1.000000</td>\n",
       "      <td>1.0</td>\n",
       "      <td>26.000000</td>\n",
       "      <td>20.000000</td>\n",
       "    </tr>\n",
       "    <tr>\n",
       "      <th>50%</th>\n",
       "      <td>492273.000000</td>\n",
       "      <td>1.000000</td>\n",
       "      <td>1.0</td>\n",
       "      <td>49.000000</td>\n",
       "      <td>37.000000</td>\n",
       "    </tr>\n",
       "    <tr>\n",
       "      <th>75%</th>\n",
       "      <td>738409.500000</td>\n",
       "      <td>1.000000</td>\n",
       "      <td>1.0</td>\n",
       "      <td>92.000000</td>\n",
       "      <td>68.000000</td>\n",
       "    </tr>\n",
       "    <tr>\n",
       "      <th>max</th>\n",
       "      <td>984546.000000</td>\n",
       "      <td>71643.000000</td>\n",
       "      <td>1.0</td>\n",
       "      <td>376.000000</td>\n",
       "      <td>244.000000</td>\n",
       "    </tr>\n",
       "  </tbody>\n",
       "</table>\n",
       "</div>"
      ],
      "text/plain": [
       "                  id  num_followers  collaborative     num_tracks  \\\n",
       "count  984547.000000  984547.000000       984547.0  984547.000000   \n",
       "mean   492273.000000       2.612579            1.0      66.388307   \n",
       "std    284214.382075     129.852211            0.0      53.685494   \n",
       "min         0.000000       1.000000            1.0       5.000000   \n",
       "25%    246136.500000       1.000000            1.0      26.000000   \n",
       "50%    492273.000000       1.000000            1.0      49.000000   \n",
       "75%    738409.500000       1.000000            1.0      92.000000   \n",
       "max    984546.000000   71643.000000            1.0     376.000000   \n",
       "\n",
       "          num_albums  \n",
       "count  984547.000000  \n",
       "mean       49.626047  \n",
       "std        39.993167  \n",
       "min         2.000000  \n",
       "25%        20.000000  \n",
       "50%        37.000000  \n",
       "75%        68.000000  \n",
       "max       244.000000  "
      ]
     },
     "execution_count": 14,
     "metadata": {},
     "output_type": "execute_result"
    }
   ],
   "source": [
    "df_playlists.describe()"
   ]
  },
  {
   "cell_type": "code",
   "execution_count": 15,
   "metadata": {},
   "outputs": [],
   "source": [
    "df_playlists_trim = df_playlists.iloc[playlist_ids]"
   ]
  },
  {
   "cell_type": "code",
   "execution_count": 16,
   "metadata": {},
   "outputs": [
    {
     "data": {
      "text/html": [
       "<div>\n",
       "<style scoped>\n",
       "    .dataframe tbody tr th:only-of-type {\n",
       "        vertical-align: middle;\n",
       "    }\n",
       "\n",
       "    .dataframe tbody tr th {\n",
       "        vertical-align: top;\n",
       "    }\n",
       "\n",
       "    .dataframe thead th {\n",
       "        text-align: right;\n",
       "    }\n",
       "</style>\n",
       "<table border=\"1\" class=\"dataframe\">\n",
       "  <thead>\n",
       "    <tr style=\"text-align: right;\">\n",
       "      <th></th>\n",
       "      <th>id</th>\n",
       "      <th>name</th>\n",
       "      <th>num_followers</th>\n",
       "      <th>collaborative</th>\n",
       "      <th>num_tracks</th>\n",
       "      <th>num_albums</th>\n",
       "    </tr>\n",
       "  </thead>\n",
       "  <tbody>\n",
       "    <tr>\n",
       "      <th>4</th>\n",
       "      <td>4</td>\n",
       "      <td>90s</td>\n",
       "      <td>2</td>\n",
       "      <td>1</td>\n",
       "      <td>17</td>\n",
       "      <td>16</td>\n",
       "    </tr>\n",
       "    <tr>\n",
       "      <th>8</th>\n",
       "      <td>8</td>\n",
       "      <td>bop</td>\n",
       "      <td>2</td>\n",
       "      <td>1</td>\n",
       "      <td>46</td>\n",
       "      <td>37</td>\n",
       "    </tr>\n",
       "    <tr>\n",
       "      <th>10</th>\n",
       "      <td>10</td>\n",
       "      <td>abby</td>\n",
       "      <td>2</td>\n",
       "      <td>1</td>\n",
       "      <td>72</td>\n",
       "      <td>60</td>\n",
       "    </tr>\n",
       "    <tr>\n",
       "      <th>20</th>\n",
       "      <td>20</td>\n",
       "      <td>mixtape</td>\n",
       "      <td>3</td>\n",
       "      <td>1</td>\n",
       "      <td>14</td>\n",
       "      <td>9</td>\n",
       "    </tr>\n",
       "    <tr>\n",
       "      <th>22</th>\n",
       "      <td>22</td>\n",
       "      <td>fall 17</td>\n",
       "      <td>2</td>\n",
       "      <td>1</td>\n",
       "      <td>42</td>\n",
       "      <td>39</td>\n",
       "    </tr>\n",
       "  </tbody>\n",
       "</table>\n",
       "</div>"
      ],
      "text/plain": [
       "    id     name  num_followers  collaborative  num_tracks  num_albums\n",
       "4    4      90s              2              1          17          16\n",
       "8    8      bop              2              1          46          37\n",
       "10  10     abby              2              1          72          60\n",
       "20  20  mixtape              3              1          14           9\n",
       "22  22  fall 17              2              1          42          39"
      ]
     },
     "execution_count": 16,
     "metadata": {},
     "output_type": "execute_result"
    }
   ],
   "source": [
    "df_playlists_trim.head()"
   ]
  },
  {
   "cell_type": "code",
   "execution_count": 17,
   "metadata": {},
   "outputs": [
    {
     "data": {
      "text/html": [
       "<div>\n",
       "<style scoped>\n",
       "    .dataframe tbody tr th:only-of-type {\n",
       "        vertical-align: middle;\n",
       "    }\n",
       "\n",
       "    .dataframe tbody tr th {\n",
       "        vertical-align: top;\n",
       "    }\n",
       "\n",
       "    .dataframe thead th {\n",
       "        text-align: right;\n",
       "    }\n",
       "</style>\n",
       "<table border=\"1\" class=\"dataframe\">\n",
       "  <thead>\n",
       "    <tr style=\"text-align: right;\">\n",
       "      <th></th>\n",
       "      <th>id</th>\n",
       "      <th>num_followers</th>\n",
       "      <th>collaborative</th>\n",
       "      <th>num_tracks</th>\n",
       "      <th>num_albums</th>\n",
       "    </tr>\n",
       "  </thead>\n",
       "  <tbody>\n",
       "    <tr>\n",
       "      <th>count</th>\n",
       "      <td>241878.000000</td>\n",
       "      <td>241878.000000</td>\n",
       "      <td>241878.0</td>\n",
       "      <td>241878.000000</td>\n",
       "      <td>241878.000000</td>\n",
       "    </tr>\n",
       "    <tr>\n",
       "      <th>mean</th>\n",
       "      <td>492351.319314</td>\n",
       "      <td>7.563855</td>\n",
       "      <td>1.0</td>\n",
       "      <td>82.227152</td>\n",
       "      <td>62.454018</td>\n",
       "    </tr>\n",
       "    <tr>\n",
       "      <th>std</th>\n",
       "      <td>284354.961297</td>\n",
       "      <td>261.919131</td>\n",
       "      <td>0.0</td>\n",
       "      <td>58.002575</td>\n",
       "      <td>44.234803</td>\n",
       "    </tr>\n",
       "    <tr>\n",
       "      <th>min</th>\n",
       "      <td>4.000000</td>\n",
       "      <td>2.000000</td>\n",
       "      <td>1.0</td>\n",
       "      <td>5.000000</td>\n",
       "      <td>2.000000</td>\n",
       "    </tr>\n",
       "    <tr>\n",
       "      <th>25%</th>\n",
       "      <td>245372.500000</td>\n",
       "      <td>2.000000</td>\n",
       "      <td>1.0</td>\n",
       "      <td>36.000000</td>\n",
       "      <td>28.000000</td>\n",
       "    </tr>\n",
       "    <tr>\n",
       "      <th>50%</th>\n",
       "      <td>492954.500000</td>\n",
       "      <td>2.000000</td>\n",
       "      <td>1.0</td>\n",
       "      <td>67.000000</td>\n",
       "      <td>51.000000</td>\n",
       "    </tr>\n",
       "    <tr>\n",
       "      <th>75%</th>\n",
       "      <td>737872.000000</td>\n",
       "      <td>3.000000</td>\n",
       "      <td>1.0</td>\n",
       "      <td>116.000000</td>\n",
       "      <td>87.000000</td>\n",
       "    </tr>\n",
       "    <tr>\n",
       "      <th>max</th>\n",
       "      <td>984540.000000</td>\n",
       "      <td>71643.000000</td>\n",
       "      <td>1.0</td>\n",
       "      <td>250.000000</td>\n",
       "      <td>242.000000</td>\n",
       "    </tr>\n",
       "  </tbody>\n",
       "</table>\n",
       "</div>"
      ],
      "text/plain": [
       "                  id  num_followers  collaborative     num_tracks  \\\n",
       "count  241878.000000  241878.000000       241878.0  241878.000000   \n",
       "mean   492351.319314       7.563855            1.0      82.227152   \n",
       "std    284354.961297     261.919131            0.0      58.002575   \n",
       "min         4.000000       2.000000            1.0       5.000000   \n",
       "25%    245372.500000       2.000000            1.0      36.000000   \n",
       "50%    492954.500000       2.000000            1.0      67.000000   \n",
       "75%    737872.000000       3.000000            1.0     116.000000   \n",
       "max    984540.000000   71643.000000            1.0     250.000000   \n",
       "\n",
       "          num_albums  \n",
       "count  241878.000000  \n",
       "mean       62.454018  \n",
       "std        44.234803  \n",
       "min         2.000000  \n",
       "25%        28.000000  \n",
       "50%        51.000000  \n",
       "75%        87.000000  \n",
       "max       242.000000  "
      ]
     },
     "execution_count": 17,
     "metadata": {},
     "output_type": "execute_result"
    }
   ],
   "source": [
    "df_playlists_trim.describe()"
   ]
  },
  {
   "cell_type": "code",
   "execution_count": 18,
   "metadata": {},
   "outputs": [],
   "source": [
    "df_albums = pd.read_csv('data/'+'albums.csv.gz', compression='gzip')"
   ]
  },
  {
   "cell_type": "code",
   "execution_count": 19,
   "metadata": {},
   "outputs": [
    {
     "data": {
      "text/html": [
       "<div>\n",
       "<style scoped>\n",
       "    .dataframe tbody tr th:only-of-type {\n",
       "        vertical-align: middle;\n",
       "    }\n",
       "\n",
       "    .dataframe tbody tr th {\n",
       "        vertical-align: top;\n",
       "    }\n",
       "\n",
       "    .dataframe thead th {\n",
       "        text-align: right;\n",
       "    }\n",
       "</style>\n",
       "<table border=\"1\" class=\"dataframe\">\n",
       "  <thead>\n",
       "    <tr style=\"text-align: right;\">\n",
       "      <th></th>\n",
       "      <th>name</th>\n",
       "      <th>id</th>\n",
       "    </tr>\n",
       "  </thead>\n",
       "  <tbody>\n",
       "    <tr>\n",
       "      <th>0</th>\n",
       "      <td>the cookbook</td>\n",
       "      <td>0</td>\n",
       "    </tr>\n",
       "    <tr>\n",
       "      <th>1</th>\n",
       "      <td>in the zone</td>\n",
       "      <td>1</td>\n",
       "    </tr>\n",
       "    <tr>\n",
       "      <th>2</th>\n",
       "      <td>dangerously in love alben fr die ewigkeit</td>\n",
       "      <td>2</td>\n",
       "    </tr>\n",
       "    <tr>\n",
       "      <th>3</th>\n",
       "      <td>justified</td>\n",
       "      <td>3</td>\n",
       "    </tr>\n",
       "    <tr>\n",
       "      <th>4</th>\n",
       "      <td>hot shot</td>\n",
       "      <td>4</td>\n",
       "    </tr>\n",
       "  </tbody>\n",
       "</table>\n",
       "</div>"
      ],
      "text/plain": [
       "                                        name  id\n",
       "0                               the cookbook   0\n",
       "1                                in the zone   1\n",
       "2  dangerously in love alben fr die ewigkeit   2\n",
       "3                                  justified   3\n",
       "4                                   hot shot   4"
      ]
     },
     "execution_count": 19,
     "metadata": {},
     "output_type": "execute_result"
    }
   ],
   "source": [
    "df_albums.head()"
   ]
  },
  {
   "cell_type": "code",
   "execution_count": 20,
   "metadata": {},
   "outputs": [],
   "source": [
    "name_counts = df_playlists_trim.name.value_counts()"
   ]
  },
  {
   "cell_type": "code",
   "execution_count": 21,
   "metadata": {},
   "outputs": [
    {
     "data": {
      "text/plain": [
       "14831"
      ]
     },
     "execution_count": 21,
     "metadata": {},
     "output_type": "execute_result"
    }
   ],
   "source": [
    "name_counts.shape[0]"
   ]
  },
  {
   "cell_type": "code",
   "execution_count": 22,
   "metadata": {},
   "outputs": [
    {
     "data": {
      "image/png": "[encoded data removed]",
      "text/plain": [
       "<Figure size 720x360 with 1 Axes>"
      ]
     },
     "metadata": {
      "needs_background": "light"
     },
     "output_type": "display_data"
    }
   ],
   "source": [
    "fig, ax = plt.subplots(figsize=(10,5))\n",
    "ax.plot(np.arange(500), name_counts[0:500])\n",
    "plt.show()"
   ]
  },
  {
   "cell_type": "code",
   "execution_count": 76,
   "metadata": {},
   "outputs": [
    {
     "data": {
      "text/plain": [
       "(315,)"
      ]
     },
     "execution_count": 76,
     "metadata": {},
     "output_type": "execute_result"
    }
   ],
   "source": [
    "name_counts[name_counts>=100].shape"
   ]
  },
  {
   "cell_type": "code",
   "execution_count": 26,
   "metadata": {},
   "outputs": [],
   "source": [
    "groups = df_playlists_trim.groupby(['name'])"
   ]
  },
  {
   "cell_type": "code",
   "execution_count": 170,
   "metadata": {},
   "outputs": [],
   "source": [
    "def divide_df(df, p1, p2, p1_split, p2_split, rest_split):\n",
    "    split = np.random.randint(1, 11, size=df.shape[0])\n",
    "    p1_thr = np.int(p1*10)\n",
    "    p2_thr = np.int((p2+p1)*10)\n",
    "    p1_split = np.append(p1_split, df.iloc[split <= p1_thr]['id'].values)\n",
    "    p2_split = np.append(p2_split, df.iloc[(split > p1_thr) & (split <= p2_thr)]['id'].values)\n",
    "    rest_split = np.append(rest_split, df.iloc[split > p2_thr]['id'].values)\n",
    "    return p1_split, p2_split, rest_split"
   ]
  },
  {
   "cell_type": "code",
   "execution_count": 171,
   "metadata": {},
   "outputs": [],
   "source": [
    "def split_train_test_validate(df_groupby, test_prop = .1, validate_prop = .1):\n",
    "    test_id = np.array([])\n",
    "    train_id = np.array([])\n",
    "    validate_id = np.array([])\n",
    "    for name, group in df_groupby:\n",
    "        if group.shape[0]<100:\n",
    "            test_id, validate_id, train_id = divide_df(group, test_prop, validate_prop, test_id, validate_id, train_id)\n",
    "        else:\n",
    "            group2 = group.sort_values(by='num_followers')\n",
    "            num_groups = np.int(group2.shape[0]/10)\n",
    "            step_size = np.int(group2.shape[0]/num_groups)\n",
    "            for step in range(1, num_groups):\n",
    "                subgroup = group2.iloc[(step-1)*step_size:step*step_size]\n",
    "                test_id, validate_id, train_id = divide_df(subgroup, test_prop, validate_prop, test_id, validate_id, train_id)\n",
    "            subgroup = group2.iloc[step*step_size:]\n",
    "            test_id, validate_id, train_id = divide_df(subgroup, test_prop, validate_prop, test_id, validate_id, train_id)\n",
    "    return train_id, test_id, validate_id"
   ]
  },
  {
   "cell_type": "code",
   "execution_count": 172,
   "metadata": {},
   "outputs": [],
   "source": [
    "train_id, test_id, validate_id = split_train_test_validate(groups)"
   ]
  },
  {
   "cell_type": "code",
   "execution_count": 175,
   "metadata": {},
   "outputs": [
    {
     "data": {
      "text/plain": [
       "0.8003249572098331"
      ]
     },
     "execution_count": 175,
     "metadata": {},
     "output_type": "execute_result"
    }
   ],
   "source": [
    "train_id.shape[0]/df_playlists_trim.shape[0]"
   ]
  },
  {
   "cell_type": "code",
   "execution_count": 176,
   "metadata": {},
   "outputs": [
    {
     "data": {
      "text/plain": [
       "0.10030676622098744"
      ]
     },
     "execution_count": 176,
     "metadata": {},
     "output_type": "execute_result"
    }
   ],
   "source": [
    "test_id.shape[0]/df_playlists_trim.shape[0]"
   ]
  },
  {
   "cell_type": "code",
   "execution_count": 177,
   "metadata": {},
   "outputs": [
    {
     "data": {
      "text/plain": [
       "0.0993682765691795"
      ]
     },
     "execution_count": 177,
     "metadata": {},
     "output_type": "execute_result"
    }
   ],
   "source": [
    "validate_id.shape[0]/df_playlists_trim.shape[0]"
   ]
  },
  {
   "cell_type": "code",
   "execution_count": 173,
   "metadata": {},
   "outputs": [
    {
     "data": {
      "text/plain": [
       "(241878, 241878)"
      ]
     },
     "execution_count": 173,
     "metadata": {},
     "output_type": "execute_result"
    }
   ],
   "source": [
    "test_id.shape[0]+train_id.shape[0]+validate_id.shape[0], df_playlists_trim.shape[0]"
   ]
  },
  {
   "cell_type": "code",
   "execution_count": 2,
   "metadata": {},
   "outputs": [],
   "source": [
    "df_raw_aug = pd.read_csv('data/raw_aug_playlists.csv.gz')"
   ]
  },
  {
   "cell_type": "code",
   "execution_count": 3,
   "metadata": {},
   "outputs": [
    {
     "data": {
      "text/html": [
       "<div>\n",
       "<style scoped>\n",
       "    .dataframe tbody tr th:only-of-type {\n",
       "        vertical-align: middle;\n",
       "    }\n",
       "\n",
       "    .dataframe tbody tr th {\n",
       "        vertical-align: top;\n",
       "    }\n",
       "\n",
       "    .dataframe thead th {\n",
       "        text-align: right;\n",
       "    }\n",
       "</style>\n",
       "<table border=\"1\" class=\"dataframe\">\n",
       "  <thead>\n",
       "    <tr style=\"text-align: right;\">\n",
       "      <th></th>\n",
       "      <th>playlist_id</th>\n",
       "      <th>sum_num_tracks</th>\n",
       "      <th>num_followers</th>\n",
       "      <th>num_tracks</th>\n",
       "      <th>num_albums</th>\n",
       "      <th>mean_duration</th>\n",
       "      <th>mean_danceability</th>\n",
       "      <th>mean_energy</th>\n",
       "      <th>max_key</th>\n",
       "      <th>max_loudness</th>\n",
       "      <th>mean_speechiness</th>\n",
       "      <th>mean_acousticness</th>\n",
       "      <th>mean_instrumentalness</th>\n",
       "      <th>mean_liveness</th>\n",
       "      <th>mean_valence</th>\n",
       "      <th>max_tempo</th>\n",
       "      <th>max_time_signature</th>\n",
       "    </tr>\n",
       "  </thead>\n",
       "  <tbody>\n",
       "    <tr>\n",
       "      <th>0</th>\n",
       "      <td>4</td>\n",
       "      <td>17</td>\n",
       "      <td>2.0</td>\n",
       "      <td>17.0</td>\n",
       "      <td>16.0</td>\n",
       "      <td>255.016588</td>\n",
       "      <td>0.576765</td>\n",
       "      <td>0.650535</td>\n",
       "      <td>9.0</td>\n",
       "      <td>-4.066</td>\n",
       "      <td>0.041159</td>\n",
       "      <td>0.177148</td>\n",
       "      <td>0.081875</td>\n",
       "      <td>0.166524</td>\n",
       "      <td>0.490765</td>\n",
       "      <td>174.302</td>\n",
       "      <td>4.0</td>\n",
       "    </tr>\n",
       "    <tr>\n",
       "      <th>1</th>\n",
       "      <td>8</td>\n",
       "      <td>46</td>\n",
       "      <td>2.0</td>\n",
       "      <td>46.0</td>\n",
       "      <td>37.0</td>\n",
       "      <td>216.280891</td>\n",
       "      <td>0.512370</td>\n",
       "      <td>0.686239</td>\n",
       "      <td>11.0</td>\n",
       "      <td>-3.009</td>\n",
       "      <td>0.050311</td>\n",
       "      <td>0.179107</td>\n",
       "      <td>0.057182</td>\n",
       "      <td>0.188674</td>\n",
       "      <td>0.538587</td>\n",
       "      <td>185.170</td>\n",
       "      <td>4.0</td>\n",
       "    </tr>\n",
       "    <tr>\n",
       "      <th>2</th>\n",
       "      <td>10</td>\n",
       "      <td>72</td>\n",
       "      <td>2.0</td>\n",
       "      <td>72.0</td>\n",
       "      <td>60.0</td>\n",
       "      <td>229.388917</td>\n",
       "      <td>0.725931</td>\n",
       "      <td>0.626431</td>\n",
       "      <td>11.0</td>\n",
       "      <td>-1.578</td>\n",
       "      <td>0.186018</td>\n",
       "      <td>0.173206</td>\n",
       "      <td>0.000086</td>\n",
       "      <td>0.181185</td>\n",
       "      <td>0.459111</td>\n",
       "      <td>193.206</td>\n",
       "      <td>4.0</td>\n",
       "    </tr>\n",
       "    <tr>\n",
       "      <th>3</th>\n",
       "      <td>20</td>\n",
       "      <td>14</td>\n",
       "      <td>3.0</td>\n",
       "      <td>14.0</td>\n",
       "      <td>9.0</td>\n",
       "      <td>171.202429</td>\n",
       "      <td>0.824429</td>\n",
       "      <td>0.573357</td>\n",
       "      <td>11.0</td>\n",
       "      <td>-3.062</td>\n",
       "      <td>0.209914</td>\n",
       "      <td>0.100930</td>\n",
       "      <td>0.007138</td>\n",
       "      <td>0.107114</td>\n",
       "      <td>0.379657</td>\n",
       "      <td>160.988</td>\n",
       "      <td>4.0</td>\n",
       "    </tr>\n",
       "    <tr>\n",
       "      <th>4</th>\n",
       "      <td>22</td>\n",
       "      <td>42</td>\n",
       "      <td>2.0</td>\n",
       "      <td>42.0</td>\n",
       "      <td>39.0</td>\n",
       "      <td>215.148548</td>\n",
       "      <td>0.645238</td>\n",
       "      <td>0.622119</td>\n",
       "      <td>11.0</td>\n",
       "      <td>-3.093</td>\n",
       "      <td>0.081374</td>\n",
       "      <td>0.173115</td>\n",
       "      <td>0.010118</td>\n",
       "      <td>0.170240</td>\n",
       "      <td>0.427000</td>\n",
       "      <td>180.043</td>\n",
       "      <td>5.0</td>\n",
       "    </tr>\n",
       "  </tbody>\n",
       "</table>\n",
       "</div>"
      ],
      "text/plain": [
       "   playlist_id  sum_num_tracks  num_followers  num_tracks  num_albums  \\\n",
       "0            4              17            2.0        17.0        16.0   \n",
       "1            8              46            2.0        46.0        37.0   \n",
       "2           10              72            2.0        72.0        60.0   \n",
       "3           20              14            3.0        14.0         9.0   \n",
       "4           22              42            2.0        42.0        39.0   \n",
       "\n",
       "   mean_duration  mean_danceability  mean_energy  max_key  max_loudness  \\\n",
       "0     255.016588           0.576765     0.650535      9.0        -4.066   \n",
       "1     216.280891           0.512370     0.686239     11.0        -3.009   \n",
       "2     229.388917           0.725931     0.626431     11.0        -1.578   \n",
       "3     171.202429           0.824429     0.573357     11.0        -3.062   \n",
       "4     215.148548           0.645238     0.622119     11.0        -3.093   \n",
       "\n",
       "   mean_speechiness  mean_acousticness  mean_instrumentalness  mean_liveness  \\\n",
       "0          0.041159           0.177148               0.081875       0.166524   \n",
       "1          0.050311           0.179107               0.057182       0.188674   \n",
       "2          0.186018           0.173206               0.000086       0.181185   \n",
       "3          0.209914           0.100930               0.007138       0.107114   \n",
       "4          0.081374           0.173115               0.010118       0.170240   \n",
       "\n",
       "   mean_valence  max_tempo  max_time_signature  \n",
       "0      0.490765    174.302                 4.0  \n",
       "1      0.538587    185.170                 4.0  \n",
       "2      0.459111    193.206                 4.0  \n",
       "3      0.379657    160.988                 4.0  \n",
       "4      0.427000    180.043                 5.0  "
      ]
     },
     "execution_count": 3,
     "metadata": {},
     "output_type": "execute_result"
    }
   ],
   "source": [
    "df_raw_aug.head()"
   ]
  },
  {
   "cell_type": "code",
   "execution_count": 30,
   "metadata": {},
   "outputs": [],
   "source": [
    "df_raw_aug.index = df_raw_aug.playlist_id.values"
   ]
  },
  {
   "cell_type": "code",
   "execution_count": 31,
   "metadata": {},
   "outputs": [
    {
     "data": {
      "text/html": [
       "<div>\n",
       "<style scoped>\n",
       "    .dataframe tbody tr th:only-of-type {\n",
       "        vertical-align: middle;\n",
       "    }\n",
       "\n",
       "    .dataframe tbody tr th {\n",
       "        vertical-align: top;\n",
       "    }\n",
       "\n",
       "    .dataframe thead th {\n",
       "        text-align: right;\n",
       "    }\n",
       "</style>\n",
       "<table border=\"1\" class=\"dataframe\">\n",
       "  <thead>\n",
       "    <tr style=\"text-align: right;\">\n",
       "      <th></th>\n",
       "      <th>playlist_id</th>\n",
       "      <th>sum_num_tracks</th>\n",
       "      <th>num_followers</th>\n",
       "      <th>num_tracks</th>\n",
       "      <th>num_albums</th>\n",
       "      <th>mean_duration</th>\n",
       "      <th>mean_danceability</th>\n",
       "      <th>mean_energy</th>\n",
       "      <th>max_key</th>\n",
       "      <th>max_loudness</th>\n",
       "      <th>mean_speechiness</th>\n",
       "      <th>mean_acousticness</th>\n",
       "      <th>mean_instrumentalness</th>\n",
       "      <th>mean_liveness</th>\n",
       "      <th>mean_valence</th>\n",
       "      <th>max_tempo</th>\n",
       "      <th>max_time_signature</th>\n",
       "    </tr>\n",
       "  </thead>\n",
       "  <tbody>\n",
       "    <tr>\n",
       "      <th>4</th>\n",
       "      <td>4</td>\n",
       "      <td>17</td>\n",
       "      <td>2.0</td>\n",
       "      <td>17.0</td>\n",
       "      <td>16.0</td>\n",
       "      <td>255.016588</td>\n",
       "      <td>0.576765</td>\n",
       "      <td>0.650535</td>\n",
       "      <td>9.0</td>\n",
       "      <td>-4.066</td>\n",
       "      <td>0.041159</td>\n",
       "      <td>0.177148</td>\n",
       "      <td>0.081875</td>\n",
       "      <td>0.166524</td>\n",
       "      <td>0.490765</td>\n",
       "      <td>174.302</td>\n",
       "      <td>4.0</td>\n",
       "    </tr>\n",
       "    <tr>\n",
       "      <th>8</th>\n",
       "      <td>8</td>\n",
       "      <td>46</td>\n",
       "      <td>2.0</td>\n",
       "      <td>46.0</td>\n",
       "      <td>37.0</td>\n",
       "      <td>216.280891</td>\n",
       "      <td>0.512370</td>\n",
       "      <td>0.686239</td>\n",
       "      <td>11.0</td>\n",
       "      <td>-3.009</td>\n",
       "      <td>0.050311</td>\n",
       "      <td>0.179107</td>\n",
       "      <td>0.057182</td>\n",
       "      <td>0.188674</td>\n",
       "      <td>0.538587</td>\n",
       "      <td>185.170</td>\n",
       "      <td>4.0</td>\n",
       "    </tr>\n",
       "    <tr>\n",
       "      <th>10</th>\n",
       "      <td>10</td>\n",
       "      <td>72</td>\n",
       "      <td>2.0</td>\n",
       "      <td>72.0</td>\n",
       "      <td>60.0</td>\n",
       "      <td>229.388917</td>\n",
       "      <td>0.725931</td>\n",
       "      <td>0.626431</td>\n",
       "      <td>11.0</td>\n",
       "      <td>-1.578</td>\n",
       "      <td>0.186018</td>\n",
       "      <td>0.173206</td>\n",
       "      <td>0.000086</td>\n",
       "      <td>0.181185</td>\n",
       "      <td>0.459111</td>\n",
       "      <td>193.206</td>\n",
       "      <td>4.0</td>\n",
       "    </tr>\n",
       "    <tr>\n",
       "      <th>20</th>\n",
       "      <td>20</td>\n",
       "      <td>14</td>\n",
       "      <td>3.0</td>\n",
       "      <td>14.0</td>\n",
       "      <td>9.0</td>\n",
       "      <td>171.202429</td>\n",
       "      <td>0.824429</td>\n",
       "      <td>0.573357</td>\n",
       "      <td>11.0</td>\n",
       "      <td>-3.062</td>\n",
       "      <td>0.209914</td>\n",
       "      <td>0.100930</td>\n",
       "      <td>0.007138</td>\n",
       "      <td>0.107114</td>\n",
       "      <td>0.379657</td>\n",
       "      <td>160.988</td>\n",
       "      <td>4.0</td>\n",
       "    </tr>\n",
       "    <tr>\n",
       "      <th>22</th>\n",
       "      <td>22</td>\n",
       "      <td>42</td>\n",
       "      <td>2.0</td>\n",
       "      <td>42.0</td>\n",
       "      <td>39.0</td>\n",
       "      <td>215.148548</td>\n",
       "      <td>0.645238</td>\n",
       "      <td>0.622119</td>\n",
       "      <td>11.0</td>\n",
       "      <td>-3.093</td>\n",
       "      <td>0.081374</td>\n",
       "      <td>0.173115</td>\n",
       "      <td>0.010118</td>\n",
       "      <td>0.170240</td>\n",
       "      <td>0.427000</td>\n",
       "      <td>180.043</td>\n",
       "      <td>5.0</td>\n",
       "    </tr>\n",
       "  </tbody>\n",
       "</table>\n",
       "</div>"
      ],
      "text/plain": [
       "    playlist_id  sum_num_tracks  num_followers  num_tracks  num_albums  \\\n",
       "4             4              17            2.0        17.0        16.0   \n",
       "8             8              46            2.0        46.0        37.0   \n",
       "10           10              72            2.0        72.0        60.0   \n",
       "20           20              14            3.0        14.0         9.0   \n",
       "22           22              42            2.0        42.0        39.0   \n",
       "\n",
       "    mean_duration  mean_danceability  mean_energy  max_key  max_loudness  \\\n",
       "4      255.016588           0.576765     0.650535      9.0        -4.066   \n",
       "8      216.280891           0.512370     0.686239     11.0        -3.009   \n",
       "10     229.388917           0.725931     0.626431     11.0        -1.578   \n",
       "20     171.202429           0.824429     0.573357     11.0        -3.062   \n",
       "22     215.148548           0.645238     0.622119     11.0        -3.093   \n",
       "\n",
       "    mean_speechiness  mean_acousticness  mean_instrumentalness  mean_liveness  \\\n",
       "4           0.041159           0.177148               0.081875       0.166524   \n",
       "8           0.050311           0.179107               0.057182       0.188674   \n",
       "10          0.186018           0.173206               0.000086       0.181185   \n",
       "20          0.209914           0.100930               0.007138       0.107114   \n",
       "22          0.081374           0.173115               0.010118       0.170240   \n",
       "\n",
       "    mean_valence  max_tempo  max_time_signature  \n",
       "4       0.490765    174.302                 4.0  \n",
       "8       0.538587    185.170                 4.0  \n",
       "10      0.459111    193.206                 4.0  \n",
       "20      0.379657    160.988                 4.0  \n",
       "22      0.427000    180.043                 5.0  "
      ]
     },
     "execution_count": 31,
     "metadata": {},
     "output_type": "execute_result"
    }
   ],
   "source": [
    "df_raw_aug.head()"
   ]
  },
  {
   "cell_type": "code",
   "execution_count": 6,
   "metadata": {},
   "outputs": [],
   "source": [
    "train_pl = pd.read_csv('data/train_playlists.csv.gz', index_col=0)\n",
    "test_pl = pd.read_csv('data/test_playlists.csv.gz', index_col=0)\n",
    "validate_pl = pd.read_csv('data/validate_playlists.csv.gz', index_col=0)"
   ]
  },
  {
   "cell_type": "code",
   "execution_count": 8,
   "metadata": {},
   "outputs": [],
   "source": [
    "train_id = train_pl.id.values\n",
    "test_id = test_pl.id.values\n",
    "validate_id = validate_pl.id.values"
   ]
  },
  {
   "cell_type": "code",
   "execution_count": null,
   "metadata": {},
   "outputs": [],
   "source": [
    "train_aug_pl = df_raw_aug.loc[train_id]\n",
    "test_aug_pl = df_raw_aug.loc[test_id]\n",
    "validate_aug_pl = df_raw_aug.loc[validate_id]"
   ]
  },
  {
   "cell_type": "code",
   "execution_count": 53,
   "metadata": {},
   "outputs": [],
   "source": [
    "train_aug_pl.to_csv('data/train_aug_playlists.csv.gz', compression='gzip')\n",
    "test_aug_pl.to_csv('data/test_aug_playlists.csv.gz', compression='gzip')\n",
    "validate_aug_pl.to_csv('data/validate_aug_playlists.csv.gz', compression='gzip')"
   ]
  },
  {
   "cell_type": "code",
   "execution_count": 26,
   "metadata": {},
   "outputs": [
    {
     "data": {
      "text/plain": [
       "False"
      ]
     },
     "execution_count": 26,
     "metadata": {},
     "output_type": "execute_result"
    }
   ],
   "source": [
    "df_raw_aug.isnull().values.any()"
   ]
  },
  {
   "cell_type": "code",
   "execution_count": 52,
   "metadata": {},
   "outputs": [
    {
     "data": {
      "text/plain": [
       "(False, False, False)"
      ]
     },
     "execution_count": 52,
     "metadata": {},
     "output_type": "execute_result"
    }
   ],
   "source": [
    "train_aug_pl.isnull().values.any(), test_aug_pl.isnull().values.any(), validate_aug_pl.isnull().values.any()"
   ]
  },
  {
   "cell_type": "code",
   "execution_count": 48,
   "metadata": {},
   "outputs": [
    {
     "data": {
      "text/html": [
       "<div>\n",
       "<style scoped>\n",
       "    .dataframe tbody tr th:only-of-type {\n",
       "        vertical-align: middle;\n",
       "    }\n",
       "\n",
       "    .dataframe tbody tr th {\n",
       "        vertical-align: top;\n",
       "    }\n",
       "\n",
       "    .dataframe thead th {\n",
       "        text-align: right;\n",
       "    }\n",
       "</style>\n",
       "<table border=\"1\" class=\"dataframe\">\n",
       "  <thead>\n",
       "    <tr style=\"text-align: right;\">\n",
       "      <th></th>\n",
       "      <th>playlist_id</th>\n",
       "      <th>sum_num_tracks</th>\n",
       "      <th>num_followers</th>\n",
       "      <th>num_tracks</th>\n",
       "      <th>num_albums</th>\n",
       "      <th>mean_duration</th>\n",
       "      <th>mean_danceability</th>\n",
       "      <th>mean_energy</th>\n",
       "      <th>max_key</th>\n",
       "      <th>max_loudness</th>\n",
       "      <th>mean_speechiness</th>\n",
       "      <th>mean_acousticness</th>\n",
       "      <th>mean_instrumentalness</th>\n",
       "      <th>mean_liveness</th>\n",
       "      <th>mean_valence</th>\n",
       "      <th>max_tempo</th>\n",
       "      <th>max_time_signature</th>\n",
       "    </tr>\n",
       "  </thead>\n",
       "  <tbody>\n",
       "    <tr>\n",
       "      <th>244514</th>\n",
       "      <td>NaN</td>\n",
       "      <td>NaN</td>\n",
       "      <td>NaN</td>\n",
       "      <td>NaN</td>\n",
       "      <td>NaN</td>\n",
       "      <td>NaN</td>\n",
       "      <td>NaN</td>\n",
       "      <td>NaN</td>\n",
       "      <td>NaN</td>\n",
       "      <td>NaN</td>\n",
       "      <td>NaN</td>\n",
       "      <td>NaN</td>\n",
       "      <td>NaN</td>\n",
       "      <td>NaN</td>\n",
       "      <td>NaN</td>\n",
       "      <td>NaN</td>\n",
       "      <td>NaN</td>\n",
       "    </tr>\n",
       "  </tbody>\n",
       "</table>\n",
       "</div>"
      ],
      "text/plain": [
       "        playlist_id  sum_num_tracks  num_followers  num_tracks  num_albums  \\\n",
       "244514          NaN             NaN            NaN         NaN         NaN   \n",
       "\n",
       "        mean_duration  mean_danceability  mean_energy  max_key  max_loudness  \\\n",
       "244514            NaN                NaN          NaN      NaN           NaN   \n",
       "\n",
       "        mean_speechiness  mean_acousticness  mean_instrumentalness  \\\n",
       "244514               NaN                NaN                    NaN   \n",
       "\n",
       "        mean_liveness  mean_valence  max_tempo  max_time_signature  \n",
       "244514            NaN           NaN        NaN                 NaN  "
      ]
     },
     "execution_count": 48,
     "metadata": {},
     "output_type": "execute_result"
    }
   ],
   "source": [
    "test_aug_pl[test_aug_pl.isnull().any(axis=1)]"
   ]
  },
  {
   "cell_type": "code",
   "execution_count": 51,
   "metadata": {},
   "outputs": [],
   "source": [
    "test_aug_pl = test_aug_pl.dropna()"
   ]
  },
  {
   "cell_type": "code",
   "execution_count": 20,
   "metadata": {},
   "outputs": [
    {
     "data": {
      "text/plain": [
       "((24115, 17), (24115,))"
      ]
     },
     "execution_count": 20,
     "metadata": {},
     "output_type": "execute_result"
    }
   ],
   "source": [
    "validate_aug_pl.shape, validate_id.shape"
   ]
  },
  {
   "cell_type": "code",
   "execution_count": 37,
   "metadata": {},
   "outputs": [
    {
     "data": {
      "text/plain": [
       "(24200, (24201,))"
      ]
     },
     "execution_count": 37,
     "metadata": {},
     "output_type": "execute_result"
    }
   ],
   "source": [
    "np.sum(df_raw_aug.playlist_id.isin(test_id).values), test_id.shape"
   ]
  }
 ],
 "metadata": {
  "kernelspec": {
   "display_name": "Python 3",
   "language": "python",
   "name": "python3"
  },
  "language_info": {
   "codemirror_mode": {
    "name": "ipython",
    "version": 3
   },
   "file_extension": ".py",
   "mimetype": "text/x-python",
   "name": "python",
   "nbconvert_exporter": "python",
   "pygments_lexer": "ipython3",
   "version": "3.6.6"
  }
 },
 "nbformat": 4,
 "nbformat_minor": 2
}
